{
 "cells": [
  {
   "cell_type": "code",
   "execution_count": 1,
   "metadata": {},
   "outputs": [],
   "source": [
    "import time\n",
    "import os\n",
    "\n",
    "import pandas as pd\n",
    "import numpy as np\n",
    "np.set_printoptions(precision=6, suppress=True)\n",
    "\n",
    "from sklearn.utils import shuffle\n",
    "from sklearn.metrics import mean_squared_error, r2_score"
   ]
  },
  {
   "cell_type": "code",
   "execution_count": 2,
   "metadata": {},
   "outputs": [],
   "source": [
    "import matplotlib\n",
    "import matplotlib.pyplot as plt\n",
    "%matplotlib inline"
   ]
  },
  {
   "cell_type": "code",
   "execution_count": 3,
   "metadata": {},
   "outputs": [],
   "source": [
    "plt.rcParams['figure.figsize'] = ((8/2.54), (6/2.54))\n",
    "plt.rcParams[\"font.family\"] = \"Arial\"\n",
    "plt.rcParams[\"mathtext.default\"] = \"rm\"\n",
    "plt.rcParams.update({'font.size': 11})\n",
    "MARKER_SIZE = 15\n",
    "cmap_m = [\"#f4a6ad\", \"#f6957e\", \"#fccfa2\", \"#8de7be\", \"#86d6f2\", \"#24a9e4\", \"#b586e0\", \"#d7f293\"]\n",
    "cmap = [\"#e94d5b\", \"#ef4d28\", \"#f9a54f\", \"#25b575\", \"#1bb1e7\", \"#1477a2\", \"#a662e5\", \"#c2f442\"]\n",
    "\n",
    "plt.rcParams['axes.spines.top'] = False\n",
    "# plt.rcParams['axes.edgecolor'] = \n",
    "plt.rcParams['axes.linewidth'] = 1\n",
    "plt.rcParams['lines.linewidth'] = 1.5\n",
    "plt.rcParams['xtick.major.width'] = 1\n",
    "plt.rcParams['xtick.minor.width'] = 1\n",
    "plt.rcParams['ytick.major.width'] = 1\n",
    "plt.rcParams['ytick.minor.width'] = 1"
   ]
  },
  {
   "cell_type": "markdown",
   "metadata": {},
   "source": [
    "## hyperparameters"
   ]
  },
  {
   "cell_type": "code",
   "execution_count": 4,
   "metadata": {},
   "outputs": [],
   "source": [
    "LOSS_RATES = [0.1, 0.2, 0.3, 0.4, 0.5, 0.6, 0.7, 0.8, 0.9, 0.95]\n",
    "DIRECTORY = '../data/'"
   ]
  },
  {
   "cell_type": "markdown",
   "metadata": {},
   "source": [
    "## data loading"
   ]
  },
  {
   "cell_type": "code",
   "execution_count": 5,
   "metadata": {},
   "outputs": [],
   "source": [
    "l = np.load('./data/tot_dataset_loss_0.30.npz')\n",
    "MAXS = l['MAXS']\n",
    "MINS = l['MINS']"
   ]
  },
  {
   "cell_type": "code",
   "execution_count": 6,
   "metadata": {},
   "outputs": [],
   "source": [
    "TOM_DIRECTORY = '../data/tom/'\n",
    "file_list = os.listdir(TOM_DIRECTORY)\n",
    "dataset_list = ['tom/' + file for file in file_list if file.endswith('.csv') and file.startswith('Val')]\n",
    "dataset_list.sort()\n",
    "temp = dataset_list\n",
    "\n",
    "PAP_DIRECTORY = '../data/pap/'\n",
    "file_list = os.listdir(PAP_DIRECTORY)\n",
    "dataset_list = ['pap/' + file for file in file_list if file.endswith('.csv') and file.startswith('Val')]\n",
    "dataset_list.sort()\n",
    "\n",
    "temp.extend(dataset_list)\n",
    "dataset_list = temp"
   ]
  },
  {
   "cell_type": "markdown",
   "metadata": {},
   "source": [
    "## Mining"
   ]
  },
  {
   "cell_type": "code",
   "execution_count": 7,
   "metadata": {
    "scrolled": true
   },
   "outputs": [
    {
     "name": "stdout",
     "output_type": "stream",
     "text": [
      "0.10 loss start.\n",
      "Val_PF_0001396_tom_env done.\n",
      "Val_PF_0002528_tom_env done.\n",
      "Val_PF_0002531_tom_env done.\n",
      "Val_PF_0002532_tom_env done.\n",
      "Val_PF_0001288_pap_env done.\n",
      "Val_PF_0001393_pap_env done.\n",
      "Val_PF_0001400_pap_env done.\n",
      "Val_PF_0002537_pap_env done.\n",
      "0.20 loss start.\n",
      "Val_PF_0001396_tom_env done.\n",
      "Val_PF_0002528_tom_env done.\n",
      "Val_PF_0002531_tom_env done.\n",
      "Val_PF_0002532_tom_env done.\n",
      "Val_PF_0001288_pap_env done.\n",
      "Val_PF_0001393_pap_env done.\n",
      "Val_PF_0001400_pap_env done.\n",
      "Val_PF_0002537_pap_env done.\n",
      "0.30 loss start.\n",
      "Val_PF_0001396_tom_env done.\n",
      "Val_PF_0002528_tom_env done.\n",
      "Val_PF_0002531_tom_env done.\n",
      "Val_PF_0002532_tom_env done.\n",
      "Val_PF_0001288_pap_env done.\n",
      "Val_PF_0001393_pap_env done.\n",
      "Val_PF_0001400_pap_env done.\n",
      "Val_PF_0002537_pap_env done.\n",
      "0.40 loss start.\n",
      "Val_PF_0001396_tom_env done.\n",
      "Val_PF_0002528_tom_env done.\n",
      "Val_PF_0002531_tom_env done.\n",
      "Val_PF_0002532_tom_env done.\n",
      "Val_PF_0001288_pap_env done.\n",
      "Val_PF_0001393_pap_env done.\n",
      "Val_PF_0001400_pap_env done.\n",
      "Val_PF_0002537_pap_env done.\n",
      "0.50 loss start.\n",
      "Val_PF_0001396_tom_env done.\n",
      "Val_PF_0002528_tom_env done.\n",
      "Val_PF_0002531_tom_env done.\n",
      "Val_PF_0002532_tom_env done.\n",
      "Val_PF_0001288_pap_env done.\n",
      "Val_PF_0001393_pap_env done.\n",
      "Val_PF_0001400_pap_env done.\n",
      "Val_PF_0002537_pap_env done.\n",
      "0.60 loss start.\n",
      "Val_PF_0001396_tom_env done.\n",
      "Val_PF_0002528_tom_env done.\n",
      "Val_PF_0002531_tom_env done.\n",
      "Val_PF_0002532_tom_env done.\n",
      "Val_PF_0001288_pap_env done.\n",
      "Val_PF_0001393_pap_env done.\n",
      "Val_PF_0001400_pap_env done.\n",
      "Val_PF_0002537_pap_env done.\n",
      "0.70 loss start.\n",
      "Val_PF_0001396_tom_env done.\n",
      "Val_PF_0002528_tom_env done.\n",
      "Val_PF_0002531_tom_env done.\n",
      "Val_PF_0002532_tom_env done.\n",
      "Val_PF_0001288_pap_env done.\n",
      "Val_PF_0001393_pap_env done.\n",
      "Val_PF_0001400_pap_env done.\n",
      "Val_PF_0002537_pap_env done.\n",
      "0.80 loss start.\n",
      "Val_PF_0001396_tom_env done.\n",
      "Val_PF_0002528_tom_env done.\n",
      "Val_PF_0002531_tom_env done.\n",
      "Val_PF_0002532_tom_env done.\n",
      "Val_PF_0001288_pap_env done.\n",
      "Val_PF_0001393_pap_env done.\n",
      "Val_PF_0001400_pap_env done.\n",
      "Val_PF_0002537_pap_env done.\n",
      "0.90 loss start.\n",
      "Val_PF_0001396_tom_env done.\n",
      "Val_PF_0002528_tom_env done.\n",
      "Val_PF_0002531_tom_env done.\n",
      "Val_PF_0002532_tom_env done.\n",
      "Val_PF_0001288_pap_env done.\n",
      "Val_PF_0001393_pap_env done.\n",
      "Val_PF_0001400_pap_env done.\n",
      "Val_PF_0002537_pap_env done.\n",
      "0.95 loss start.\n",
      "Val_PF_0001396_tom_env done.\n",
      "Val_PF_0002528_tom_env done.\n",
      "Val_PF_0002531_tom_env done.\n",
      "Val_PF_0002532_tom_env done.\n",
      "Val_PF_0001288_pap_env done.\n",
      "Val_PF_0001393_pap_env done.\n",
      "Val_PF_0001400_pap_env done.\n",
      "Val_PF_0002537_pap_env done.\n"
     ]
    }
   ],
   "source": [
    "for LOSS_RATE in LOSS_RATES:\n",
    "    print('%.2f loss start.' % LOSS_RATE)\n",
    "    for FILENAME in dataset_list:\n",
    "        raw_df = pd.read_csv(DIRECTORY + FILENAME, index_col=['MEAS_DATE']).dropna(how='all')\n",
    "        raw_df = raw_df[~(raw_df == 0).all(axis=1)].interpolate()\n",
    "        datetime = pd.DatetimeIndex(raw_df.index)\n",
    "        env_df = raw_df.values\n",
    "        np.random.seed(3101)\n",
    "        null_prob = 0.3\n",
    "        mask = np.random.choice(2, env_df.size, p=[null_prob, 1-null_prob]).reshape(env_df.shape)\n",
    "        np.random.seed(4564)\n",
    "        raw_null_prob = LOSS_RATE\n",
    "        raw_indices = np.random.choice(np.arange(int(env_df.shape[0]/48)-1),\n",
    "                                       replace=False, size=int(env_df.shape[0]/48 * raw_null_prob))\n",
    "        raw_indices = raw_indices*48\n",
    "        raw_indices_ext = []\n",
    "        for elem in raw_indices:\n",
    "            for _ in range(elem, elem+48):\n",
    "                raw_indices_ext.append(_)\n",
    "        raw_indices = np.array(raw_indices_ext)\n",
    "        raw_indices = np.unique(raw_indices[raw_indices < env_df.shape[0]])\n",
    "\n",
    "        mask[raw_indices, :] = 0\n",
    "        missing_df = np.ma.array(env_df, mask=1-mask, fill_value=-1)\n",
    "        missing_df = missing_df.filled()\n",
    "        \n",
    "        recover_df = missing_df.copy()\n",
    "        recover_df = pd.DataFrame(recover_df, index=raw_df.index, columns=raw_df.columns)\n",
    "        recover_df.index = pd.DatetimeIndex(recover_df.index)\n",
    "        recover_df[recover_df == -1] = np.nan\n",
    "        recover_df = recover_df.interpolate().bfill()\n",
    "        \n",
    "        recover_df.to_csv('./results/recovered_%s_%.2fp_LI.csv' % (FILENAME.split('/')[-1].split('.')[0], LOSS_RATE))\n",
    "        print('%s done.' % FILENAME.split('/')[-1].split('.')[0])"
   ]
  }
 ],
 "metadata": {
  "kernelspec": {
   "display_name": "Environment (conda_tensorflow2_p36)",
   "language": "python",
   "name": "conda_tensorflow2_p36"
  },
  "language_info": {
   "codemirror_mode": {
    "name": "ipython",
    "version": 3
   },
   "file_extension": ".py",
   "mimetype": "text/x-python",
   "name": "python",
   "nbconvert_exporter": "python",
   "pygments_lexer": "ipython3",
   "version": "3.6.10"
  }
 },
 "nbformat": 4,
 "nbformat_minor": 4
}

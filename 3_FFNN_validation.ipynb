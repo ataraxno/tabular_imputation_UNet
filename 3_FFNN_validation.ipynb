{
 "cells": [
  {
   "cell_type": "code",
   "execution_count": 1,
   "metadata": {},
   "outputs": [
    {
     "data": {
      "text/plain": [
       "'2.3.0'"
      ]
     },
     "execution_count": 1,
     "metadata": {},
     "output_type": "execute_result"
    }
   ],
   "source": [
    "import time\n",
    "import os\n",
    "\n",
    "import pandas as pd\n",
    "import numpy as np\n",
    "np.set_printoptions(precision=6, suppress=True)\n",
    "\n",
    "from sklearn.utils import shuffle\n",
    "from sklearn.metrics import mean_squared_error\n",
    "\n",
    "import tensorflow as tf\n",
    "from tensorflow.keras import *\n",
    "tf.__version__"
   ]
  },
  {
   "cell_type": "code",
   "execution_count": 2,
   "metadata": {},
   "outputs": [
    {
     "name": "stdout",
     "output_type": "stream",
     "text": [
      "2 Physical GPUs, 2 Logical GPUs\n"
     ]
    }
   ],
   "source": [
    "gpus = tf.config.experimental.list_physical_devices('GPU')\n",
    "if gpus:\n",
    "    try:\n",
    "        # Currently, memory growth needs to be the same across GPUs\n",
    "        for gpu in gpus:\n",
    "            tf.config.experimental.set_memory_growth(gpu, True)\n",
    "        logical_gpus = tf.config.experimental.list_logical_devices('GPU')\n",
    "        print(len(gpus), \"Physical GPUs,\", len(logical_gpus), \"Logical GPUs\")\n",
    "    except RuntimeError as e:\n",
    "        # Memory growth must be set before GPUs have been initialized\n",
    "        print(e)"
   ]
  },
  {
   "cell_type": "code",
   "execution_count": 3,
   "metadata": {},
   "outputs": [],
   "source": [
    "from tensorflow.keras.metrics import Metric\n",
    "class RSquare(Metric):\n",
    "    \"\"\"Compute R^2 score.\n",
    "     This is also called as coefficient of determination.\n",
    "     It tells how close are data to the fitted regression line.\n",
    "     - Highest score can be 1.0 and it indicates that the predictors\n",
    "       perfectly accounts for variation in the target.\n",
    "     - Score 0.0 indicates that the predictors do not\n",
    "       account for variation in the target.\n",
    "     - It can also be negative if the model is worse.\n",
    "     Usage:\n",
    "     ```python\n",
    "     actuals = tf.constant([1, 4, 3], dtype=tf.float32)\n",
    "     preds = tf.constant([2, 4, 4], dtype=tf.float32)\n",
    "     result = tf.keras.metrics.RSquare()\n",
    "     result.update_state(actuals, preds)\n",
    "     print('R^2 score is: ', r1.result().numpy()) # 0.57142866\n",
    "    ```\n",
    "    \"\"\"\n",
    "\n",
    "    def __init__(self, name='r_square', dtype=tf.float32):\n",
    "        super(RSquare, self).__init__(name=name, dtype=dtype)\n",
    "        self.squared_sum = self.add_weight(\"squared_sum\", initializer=\"zeros\")\n",
    "        self.sum = self.add_weight(\"sum\", initializer=\"zeros\")\n",
    "        self.res = self.add_weight(\"residual\", initializer=\"zeros\")\n",
    "        self.count = self.add_weight(\"count\", initializer=\"zeros\")\n",
    "\n",
    "    def update_state(self, y_true, y_pred):\n",
    "        y_true = tf.convert_to_tensor(y_true, tf.float32)\n",
    "        y_pred = tf.convert_to_tensor(y_pred, tf.float32)\n",
    "        self.squared_sum.assign_add(tf.reduce_sum(y_true**2))\n",
    "        self.sum.assign_add(tf.reduce_sum(y_true))\n",
    "        self.res.assign_add(\n",
    "            tf.reduce_sum(tf.square(tf.subtract(y_true, y_pred))))\n",
    "        self.count.assign_add(tf.cast(tf.shape(y_true)[0], tf.float32))\n",
    "\n",
    "    def result(self):\n",
    "        mean = self.sum / self.count\n",
    "        total = self.squared_sum - 2 * self.sum * mean + self.count * mean**2\n",
    "        return 1 - (self.res / total)\n",
    "\n",
    "    def reset_states(self):\n",
    "        # The state of the metric will be reset at the start of each epoch.\n",
    "        self.squared_sum.assign(0.0)\n",
    "        self.sum.assign(0.0)\n",
    "        self.res.assign(0.0)\n",
    "        self.count.assign(0.0)"
   ]
  },
  {
   "cell_type": "code",
   "execution_count": 4,
   "metadata": {},
   "outputs": [],
   "source": [
    "import matplotlib\n",
    "import matplotlib.pyplot as plt\n",
    "%matplotlib inline"
   ]
  },
  {
   "cell_type": "code",
   "execution_count": 5,
   "metadata": {},
   "outputs": [],
   "source": [
    "plt.rcParams['figure.figsize'] = ((8/2.54), (6/2.54))\n",
    "plt.rcParams[\"font.family\"] = \"Arial\"\n",
    "plt.rcParams[\"mathtext.default\"] = \"rm\"\n",
    "plt.rcParams.update({'font.size': 11})\n",
    "MARKER_SIZE = 15\n",
    "cmap_m = [\"#f4a6ad\", \"#f6957e\", \"#fccfa2\", \"#8de7be\", \"#86d6f2\", \"#24a9e4\", \"#b586e0\", \"#d7f293\"]\n",
    "cmap = [\"#e94d5b\", \"#ef4d28\", \"#f9a54f\", \"#25b575\", \"#1bb1e7\", \"#1477a2\", \"#a662e5\", \"#c2f442\"]\n",
    "\n",
    "plt.rcParams['axes.spines.top'] = False\n",
    "# plt.rcParams['axes.edgecolor'] = \n",
    "plt.rcParams['axes.linewidth'] = 1\n",
    "plt.rcParams['lines.linewidth'] = 1.5\n",
    "plt.rcParams['xtick.major.width'] = 1\n",
    "plt.rcParams['xtick.minor.width'] = 1\n",
    "plt.rcParams['ytick.major.width'] = 1\n",
    "plt.rcParams['ytick.minor.width'] = 1"
   ]
  },
  {
   "cell_type": "markdown",
   "metadata": {},
   "source": [
    "# Model test"
   ]
  },
  {
   "cell_type": "markdown",
   "metadata": {},
   "source": [
    "## hyperparameters"
   ]
  },
  {
   "cell_type": "code",
   "execution_count": 6,
   "metadata": {},
   "outputs": [],
   "source": [
    "LOSS_RATES = [0.1, 0.2, 0.3, 0.4, 0.5, 0.6, 0.7, 0.8, 0.9, 0.95]\n",
    "SCREEN_SIZE = 1\n",
    "DISP_STEPS = 100\n",
    "TRAINING_EPOCHS = 500\n",
    "BATCH_SIZE = 32\n",
    "LEARNING_RATE = 0.001\n",
    "DIRECTORY = '../data/'"
   ]
  },
  {
   "cell_type": "code",
   "execution_count": 7,
   "metadata": {},
   "outputs": [],
   "source": [
    "class FFNN(Model):\n",
    "    def __init__(self, out_len):\n",
    "        super(FFNN, self).__init__()\n",
    "        \n",
    "        self.out_len = out_len\n",
    "        self.dense1 = layers.Dense(64)\n",
    "        self.bn1 = layers.BatchNormalization()\n",
    "        self.dense2 = layers.Dense(64)\n",
    "        self.out_layer = layers.Dense(self.out_len)\n",
    "        \n",
    "    def call(self, inp):\n",
    "        output = self.dense1(inp)\n",
    "        output = self.bn1(inp)\n",
    "        output = self.dense2(inp)\n",
    "        output = self.out_layer(inp)\n",
    "        \n",
    "        return output"
   ]
  },
  {
   "cell_type": "code",
   "execution_count": 8,
   "metadata": {},
   "outputs": [
    {
     "name": "stdout",
     "output_type": "stream",
     "text": [
      "Checkpoint 33 restored.\n"
     ]
    }
   ],
   "source": [
    "ffnn_model = FFNN(5)\n",
    "opt = tf.optimizers.Adam(learning_rate=LEARNING_RATE)\n",
    "\n",
    "checkpoint_path = './checkpoints/FFNN_best_loss_0.30p/'\n",
    "ckpt = tf.train.Checkpoint(ffnn_model=ffnn_model, opt=opt)\n",
    "ckpt_manager = tf.train.CheckpointManager(ckpt, checkpoint_path, max_to_keep=10)\n",
    "if ckpt_manager.checkpoints:\n",
    "    ckpt.restore(ckpt_manager.checkpoints[-1])\n",
    "    print ('Checkpoint ' + ckpt_manager.checkpoints[-1][-2:] +' restored.')"
   ]
  },
  {
   "cell_type": "markdown",
   "metadata": {},
   "source": [
    "## data loading"
   ]
  },
  {
   "cell_type": "code",
   "execution_count": 9,
   "metadata": {},
   "outputs": [],
   "source": [
    "l = np.load('./data/tot_dataset_loss_0.30.npz')\n",
    "MAXS = l['MAXS']\n",
    "MINS = l['MINS']"
   ]
  },
  {
   "cell_type": "code",
   "execution_count": 10,
   "metadata": {},
   "outputs": [],
   "source": [
    "TOM_DIRECTORY = '../data/tom/'\n",
    "file_list = os.listdir(TOM_DIRECTORY)\n",
    "dataset_list = ['tom/' + file for file in file_list if file.endswith('.csv') and file.startswith('Val')]\n",
    "dataset_list.sort()\n",
    "temp = dataset_list\n",
    "\n",
    "PAP_DIRECTORY = '../data/pap/'\n",
    "file_list = os.listdir(PAP_DIRECTORY)\n",
    "dataset_list = ['pap/' + file for file in file_list if file.endswith('.csv') and file.startswith('Val')]\n",
    "dataset_list.sort()\n",
    "\n",
    "temp.extend(dataset_list)\n",
    "dataset_list = temp"
   ]
  },
  {
   "cell_type": "code",
   "execution_count": 11,
   "metadata": {},
   "outputs": [],
   "source": [
    "def index_selector(x, sr): #x: sorted count indices (argmax), sr: Screen size\n",
    "    new_indices = []\n",
    "    while len(x) > 0:\n",
    "        new_indices.append(x[0])\n",
    "        x = np.setdiff1d(x, np.arange(x[0] - sr, x[0] + sr), assume_unique=True)\n",
    "    return np.array(new_indices)"
   ]
  },
  {
   "cell_type": "code",
   "execution_count": 12,
   "metadata": {
    "scrolled": true
   },
   "outputs": [
    {
     "name": "stdout",
     "output_type": "stream",
     "text": [
      "0.10 loss start.\n",
      "Val_PF_0001396_tom_env done.\n",
      "Val_PF_0002528_tom_env done.\n",
      "Val_PF_0002531_tom_env done.\n",
      "Val_PF_0002532_tom_env done.\n",
      "Val_PF_0001288_pap_env done.\n",
      "Val_PF_0001393_pap_env done.\n",
      "Val_PF_0001400_pap_env done.\n",
      "Val_PF_0002537_pap_env done.\n",
      "0.20 loss start.\n",
      "Val_PF_0001396_tom_env done.\n",
      "Val_PF_0002528_tom_env done.\n",
      "Val_PF_0002531_tom_env done.\n",
      "Val_PF_0002532_tom_env done.\n",
      "Val_PF_0001288_pap_env done.\n",
      "Val_PF_0001393_pap_env done.\n",
      "Val_PF_0001400_pap_env done.\n",
      "Val_PF_0002537_pap_env done.\n",
      "0.30 loss start.\n",
      "Val_PF_0001396_tom_env done.\n",
      "Val_PF_0002528_tom_env done.\n",
      "Val_PF_0002531_tom_env done.\n",
      "Val_PF_0002532_tom_env done.\n",
      "Val_PF_0001288_pap_env done.\n",
      "Val_PF_0001393_pap_env done.\n",
      "Val_PF_0001400_pap_env done.\n",
      "Val_PF_0002537_pap_env done.\n",
      "0.40 loss start.\n",
      "Val_PF_0001396_tom_env done.\n",
      "Val_PF_0002528_tom_env done.\n",
      "Val_PF_0002531_tom_env done.\n",
      "Val_PF_0002532_tom_env done.\n",
      "Val_PF_0001288_pap_env done.\n",
      "Val_PF_0001393_pap_env done.\n",
      "Val_PF_0001400_pap_env done.\n",
      "Val_PF_0002537_pap_env done.\n",
      "0.50 loss start.\n",
      "Val_PF_0001396_tom_env done.\n",
      "Val_PF_0002528_tom_env done.\n",
      "Val_PF_0002531_tom_env done.\n",
      "Val_PF_0002532_tom_env done.\n",
      "Val_PF_0001288_pap_env done.\n",
      "Val_PF_0001393_pap_env done.\n",
      "Val_PF_0001400_pap_env done.\n",
      "Val_PF_0002537_pap_env done.\n",
      "0.60 loss start.\n",
      "Val_PF_0001396_tom_env done.\n",
      "Val_PF_0002528_tom_env done.\n",
      "Val_PF_0002531_tom_env done.\n",
      "Val_PF_0002532_tom_env done.\n",
      "Val_PF_0001288_pap_env done.\n",
      "Val_PF_0001393_pap_env done.\n",
      "Val_PF_0001400_pap_env done.\n",
      "Val_PF_0002537_pap_env done.\n",
      "0.70 loss start.\n",
      "Val_PF_0001396_tom_env done.\n",
      "Val_PF_0002528_tom_env done.\n",
      "Val_PF_0002531_tom_env done.\n",
      "Val_PF_0002532_tom_env done.\n",
      "Val_PF_0001288_pap_env done.\n",
      "Val_PF_0001393_pap_env done.\n",
      "Val_PF_0001400_pap_env done.\n",
      "Val_PF_0002537_pap_env done.\n",
      "0.80 loss start.\n",
      "Val_PF_0001396_tom_env done.\n",
      "Val_PF_0002528_tom_env done.\n",
      "Val_PF_0002531_tom_env done.\n",
      "Val_PF_0002532_tom_env done.\n",
      "Val_PF_0001288_pap_env done.\n",
      "Val_PF_0001393_pap_env done.\n",
      "Val_PF_0001400_pap_env done.\n",
      "Val_PF_0002537_pap_env done.\n",
      "0.90 loss start.\n",
      "Val_PF_0001396_tom_env done.\n",
      "Val_PF_0002528_tom_env done.\n",
      "Val_PF_0002531_tom_env done.\n",
      "Val_PF_0002532_tom_env done.\n",
      "Val_PF_0001288_pap_env done.\n",
      "Val_PF_0001393_pap_env done.\n",
      "Val_PF_0001400_pap_env done.\n",
      "Val_PF_0002537_pap_env done.\n",
      "0.95 loss start.\n",
      "Val_PF_0001396_tom_env done.\n",
      "Val_PF_0002528_tom_env done.\n",
      "Val_PF_0002531_tom_env done.\n",
      "Val_PF_0002532_tom_env done.\n",
      "Val_PF_0001288_pap_env done.\n",
      "Val_PF_0001393_pap_env done.\n",
      "Val_PF_0001400_pap_env done.\n",
      "Val_PF_0002537_pap_env done.\n"
     ]
    }
   ],
   "source": [
    "for LOSS_RATE in LOSS_RATES:\n",
    "    print('%.2f loss start.' % LOSS_RATE)\n",
    "    for FILENAME in dataset_list:\n",
    "        raw_df = pd.read_csv(DIRECTORY + FILENAME, index_col=['MEAS_DATE']).dropna(how='all')\n",
    "        raw_df = raw_df[~(raw_df == 0).all(axis=1)].interpolate()\n",
    "        datetime = pd.DatetimeIndex(raw_df.index)\n",
    "        env_df = raw_df.values\n",
    "        np.random.seed(3101)\n",
    "        null_prob = 0.3\n",
    "        mask = np.random.choice(2, env_df.size, p=[null_prob, 1-null_prob]).reshape(env_df.shape)\n",
    "        np.random.seed(4564)\n",
    "        raw_null_prob = LOSS_RATE\n",
    "        raw_indices = np.random.choice(np.arange(int(env_df.shape[0]/48)-1),\n",
    "                                       replace=False, size=int(env_df.shape[0]/48 * raw_null_prob))\n",
    "        raw_indices = raw_indices*48\n",
    "        raw_indices_ext = []\n",
    "        for elem in raw_indices:\n",
    "            for _ in range(elem, elem+48):\n",
    "                raw_indices_ext.append(_)\n",
    "        raw_indices = np.array(raw_indices_ext)\n",
    "        raw_indices = np.unique(raw_indices[raw_indices < env_df.shape[0]])\n",
    "        env_df = (env_df - MINS)/(MAXS - MINS)\n",
    "\n",
    "        mask[raw_indices, :] = 0\n",
    "        missing_df = np.ma.array(env_df, mask=1-mask, fill_value=-1)\n",
    "        missing_df = missing_df.filled()\n",
    "\n",
    "        recover_df = missing_df.copy()\n",
    "        recover_df = pd.DataFrame(recover_df, index=raw_df.index, columns=raw_df.columns)\n",
    "        recover_df.index = pd.DatetimeIndex(recover_df.index)\n",
    "        \n",
    "        filling_indices = np.array([True])\n",
    "        prev_filling_indices = np.array([False])\n",
    "        error = 0\n",
    "        \n",
    "        temp_current = recover_df[1:-1].values # current\n",
    "        temp_prev = recover_df[:-2].values # previous\n",
    "        temp_next = recover_df[2:].values # next\n",
    "        temp_mask = mask[1:-1]\n",
    "        \n",
    "        test_input = np.concatenate([temp_current, temp_mask, temp_prev, temp_next], axis=1)\n",
    "        \n",
    "        pred_result = ffnn_model.predict(test_input)\n",
    "\n",
    "        masking = test_input[..., 5:10]\n",
    "        final_pred = np.ma.array(pred_result, mask=masking, fill_value=np.nan).filled()\n",
    "\n",
    "        pred_df = pd.DataFrame(final_pred.reshape(-1, 5),\n",
    "                               index = pd.DatetimeIndex(datetime[1:-1]),\n",
    "                               columns=raw_df.columns)\n",
    "        recover_df[recover_df == -1] = np.nan\n",
    "        recover_df = recover_df.combine_first(pred_df)\n",
    "        \n",
    "        ((MAXS[:5]-MINS[:5])*recover_df + MINS[:5]).to_csv('./results/recovered_%s_%.2fp_FFNN.csv' % (FILENAME.split('/')[-1].split('.')[0], LOSS_RATE))\n",
    "        print('%s done.' % FILENAME.split('/')[-1].split('.')[0])"
   ]
  }
 ],
 "metadata": {
  "kernelspec": {
   "display_name": "Environment (conda_tensorflow2_p36)",
   "language": "python",
   "name": "conda_tensorflow2_p36"
  },
  "language_info": {
   "codemirror_mode": {
    "name": "ipython",
    "version": 3
   },
   "file_extension": ".py",
   "mimetype": "text/x-python",
   "name": "python",
   "nbconvert_exporter": "python",
   "pygments_lexer": "ipython3",
   "version": "3.6.10"
  }
 },
 "nbformat": 4,
 "nbformat_minor": 4
}

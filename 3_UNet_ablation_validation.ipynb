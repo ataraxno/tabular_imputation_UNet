{
 "cells": [
  {
   "cell_type": "code",
   "execution_count": 1,
   "metadata": {},
   "outputs": [
    {
     "data": {
      "text/plain": [
       "'2.3.0'"
      ]
     },
     "execution_count": 1,
     "metadata": {},
     "output_type": "execute_result"
    }
   ],
   "source": [
    "import time\n",
    "import os\n",
    "\n",
    "import pandas as pd\n",
    "import numpy as np\n",
    "np.set_printoptions(precision=6, suppress=True)\n",
    "\n",
    "from sklearn.utils import shuffle\n",
    "from sklearn.metrics import mean_squared_error, r2_score\n",
    "\n",
    "import tensorflow as tf\n",
    "from tensorflow.keras import *\n",
    "tf.__version__"
   ]
  },
  {
   "cell_type": "code",
   "execution_count": 2,
   "metadata": {},
   "outputs": [
    {
     "name": "stdout",
     "output_type": "stream",
     "text": [
      "2 Physical GPUs, 2 Logical GPUs\n"
     ]
    }
   ],
   "source": [
    "gpus = tf.config.experimental.list_physical_devices('GPU')\n",
    "if gpus:\n",
    "    try:\n",
    "        # Currently, memory growth needs to be the same across GPUs\n",
    "        for gpu in gpus:\n",
    "            tf.config.experimental.set_memory_growth(gpu, True)\n",
    "        logical_gpus = tf.config.experimental.list_logical_devices('GPU')\n",
    "        print(len(gpus), \"Physical GPUs,\", len(logical_gpus), \"Logical GPUs\")\n",
    "    except RuntimeError as e:\n",
    "        # Memory growth must be set before GPUs have been initialized\n",
    "        print(e)"
   ]
  },
  {
   "cell_type": "code",
   "execution_count": 3,
   "metadata": {},
   "outputs": [],
   "source": [
    "from tensorflow.keras.metrics import Metric\n",
    "class RSquare(Metric):\n",
    "    \"\"\"Compute R^2 score.\n",
    "     This is also called as coefficient of determination.\n",
    "     It tells how close are data to the fitted regression line.\n",
    "     - Highest score can be 1.0 and it indicates that the predictors\n",
    "       perfectly accounts for variation in the target.\n",
    "     - Score 0.0 indicates that the predictors do not\n",
    "       account for variation in the target.\n",
    "     - It can also be negative if the model is worse.\n",
    "     Usage:\n",
    "     ```python\n",
    "     actuals = tf.constant([1, 4, 3], dtype=tf.float32)\n",
    "     preds = tf.constant([2, 4, 4], dtype=tf.float32)\n",
    "     result = tf.keras.metrics.RSquare()\n",
    "     result.update_state(actuals, preds)\n",
    "     print('R^2 score is: ', r1.result().numpy()) # 0.57142866\n",
    "    ```\n",
    "    \"\"\"\n",
    "\n",
    "    def __init__(self, name='r_square', dtype=tf.float32):\n",
    "        super(RSquare, self).__init__(name=name, dtype=dtype)\n",
    "        self.squared_sum = self.add_weight(\"squared_sum\", initializer=\"zeros\")\n",
    "        self.sum = self.add_weight(\"sum\", initializer=\"zeros\")\n",
    "        self.res = self.add_weight(\"residual\", initializer=\"zeros\")\n",
    "        self.count = self.add_weight(\"count\", initializer=\"zeros\")\n",
    "\n",
    "    def update_state(self, y_true, y_pred):\n",
    "        y_true = tf.convert_to_tensor(y_true, tf.float32)\n",
    "        y_pred = tf.convert_to_tensor(y_pred, tf.float32)\n",
    "        self.squared_sum.assign_add(tf.reduce_sum(y_true**2))\n",
    "        self.sum.assign_add(tf.reduce_sum(y_true))\n",
    "        self.res.assign_add(\n",
    "            tf.reduce_sum(tf.square(tf.subtract(y_true, y_pred))))\n",
    "        self.count.assign_add(tf.cast(tf.shape(y_true)[0], tf.float32))\n",
    "\n",
    "    def result(self):\n",
    "        mean = self.sum / self.count\n",
    "        total = self.squared_sum - 2 * self.sum * mean + self.count * mean**2\n",
    "        return 1 - (self.res / total)\n",
    "\n",
    "    def reset_states(self):\n",
    "        # The state of the metric will be reset at the start of each epoch.\n",
    "        self.squared_sum.assign(0.0)\n",
    "        self.sum.assign(0.0)\n",
    "        self.res.assign(0.0)\n",
    "        self.count.assign(0.0)"
   ]
  },
  {
   "cell_type": "code",
   "execution_count": 4,
   "metadata": {},
   "outputs": [],
   "source": [
    "import matplotlib\n",
    "import matplotlib.pyplot as plt\n",
    "%matplotlib inline"
   ]
  },
  {
   "cell_type": "code",
   "execution_count": 5,
   "metadata": {},
   "outputs": [],
   "source": [
    "plt.rcParams['figure.figsize'] = ((8/2.54), (6/2.54))\n",
    "plt.rcParams[\"font.family\"] = \"Arial\"\n",
    "plt.rcParams[\"mathtext.default\"] = \"rm\"\n",
    "plt.rcParams.update({'font.size': 11})\n",
    "MARKER_SIZE = 15\n",
    "cmap_m = [\"#f4a6ad\", \"#f6957e\", \"#fccfa2\", \"#8de7be\", \"#86d6f2\", \"#24a9e4\", \"#b586e0\", \"#d7f293\"]\n",
    "cmap = [\"#e94d5b\", \"#ef4d28\", \"#f9a54f\", \"#25b575\", \"#1bb1e7\", \"#1477a2\", \"#a662e5\", \"#c2f442\"]\n",
    "\n",
    "plt.rcParams['axes.spines.top'] = False\n",
    "# plt.rcParams['axes.edgecolor'] = \n",
    "plt.rcParams['axes.linewidth'] = 1\n",
    "plt.rcParams['lines.linewidth'] = 1.5\n",
    "plt.rcParams['xtick.major.width'] = 1\n",
    "plt.rcParams['xtick.minor.width'] = 1\n",
    "plt.rcParams['ytick.major.width'] = 1\n",
    "plt.rcParams['ytick.minor.width'] = 1"
   ]
  },
  {
   "cell_type": "markdown",
   "metadata": {},
   "source": [
    "# Model test"
   ]
  },
  {
   "cell_type": "markdown",
   "metadata": {},
   "source": [
    "## hyperparameters"
   ]
  },
  {
   "cell_type": "code",
   "execution_count": 6,
   "metadata": {},
   "outputs": [],
   "source": [
    "SCREEN_SIZE = 50\n",
    "DISP_STEPS = 100\n",
    "TRAINING_EPOCHS = 500\n",
    "BATCH_SIZE = 32\n",
    "LEARNING_RATE = 0.001\n",
    "DIRECTORY = '../data/'"
   ]
  },
  {
   "cell_type": "code",
   "execution_count": 7,
   "metadata": {},
   "outputs": [],
   "source": [
    "class ConvBlock(layers.Layer):\n",
    "    def __init__(self, filters, kernel_size, dropout_rate):\n",
    "        super(ConvBlock, self).__init__()\n",
    "        self.filters = filters\n",
    "        self.kernel_size = kernel_size\n",
    "        self.dropout_rate = dropout_rate\n",
    "        \n",
    "        self.conv1 = layers.Conv2D(self.filters, self.kernel_size,\n",
    "                                   activation='relu', kernel_initializer='he_normal', padding='same')\n",
    "        self.batch1 = layers.BatchNormalization()\n",
    "        self.drop = layers.Dropout(self.dropout_rate)\n",
    "        self.conv2 = layers.Conv2D(self.filters, self.kernel_size,\n",
    "                                   activation='relu', kernel_initializer='he_normal', padding='same')\n",
    "        self.batch2 = layers.BatchNormalization()\n",
    "        \n",
    "    def call(self, inp):\n",
    "        \n",
    "        inp = self.batch1(self.conv1(inp))\n",
    "        inp = self.drop(inp)\n",
    "        inp = self.batch2(self.conv2(inp))\n",
    "        \n",
    "        return inp"
   ]
  },
  {
   "cell_type": "code",
   "execution_count": 8,
   "metadata": {},
   "outputs": [],
   "source": [
    "class DeconvBlock(layers.Layer):\n",
    "    def __init__(self, filters, kernel_size, strides):\n",
    "        super(DeconvBlock, self).__init__()\n",
    "        self.filters = filters\n",
    "        self.kernel_size = kernel_size\n",
    "        self.strides = strides\n",
    "        \n",
    "        self.deconv1 = layers.Conv2DTranspose(self.filters, self.kernel_size, strides=self.strides, padding='same')\n",
    "        \n",
    "    def call(self, inp):\n",
    "        \n",
    "        inp = self.deconv1(inp)\n",
    "        \n",
    "        return inp"
   ]
  },
  {
   "cell_type": "code",
   "execution_count": 9,
   "metadata": {},
   "outputs": [],
   "source": [
    "class UNet(Model):\n",
    "    def __init__(self):\n",
    "        super(UNet, self).__init__()\n",
    "        \n",
    "        self.conv_block1 = ConvBlock(64, (2, 2), 0.1)\n",
    "        self.pool1 = layers.MaxPooling2D()\n",
    "        \n",
    "        self.conv_block2 = ConvBlock(128, (2, 2), 0.2)\n",
    "        self.pool2 = layers.MaxPooling2D()\n",
    "        \n",
    "        self.conv_block3 = ConvBlock(256, (2, 2), 0.2)\n",
    "        \n",
    "        self.deconv_block1 = DeconvBlock(128, (2, 2), (2, 2))\n",
    "        self.conv_block4 = ConvBlock(128, (2, 2), 0.2)\n",
    "        \n",
    "        self.deconv_block2 = DeconvBlock(32, (2, 2), (2, 2))\n",
    "        self.padding = layers.ZeroPadding2D(((1, 0), (0, 1)))\n",
    "        self.conv_block5 = ConvBlock(64, (2, 2), 0.1)\n",
    "        \n",
    "        self.output_conv = layers.Conv2D(1, (1, 1), activation='sigmoid')\n",
    "        \n",
    "    def call(self, inp):\n",
    "        \n",
    "        conv1 = self.conv_block1(inp)\n",
    "        pooled1 = self.pool1(conv1)\n",
    "        conv2 = self.conv_block2(pooled1)\n",
    "        pooled2 = self.pool2(conv2)\n",
    "        \n",
    "        bottom = self.conv_block3(pooled2)\n",
    "        \n",
    "        deconv1 = self.padding(self.deconv_block1(bottom))\n",
    "        deconv1 = layers.concatenate([deconv1, conv2])\n",
    "        deconv1 = self.conv_block4(deconv1)\n",
    "        deconv2 = self.deconv_block2(deconv1)\n",
    "        deconv2 = layers.concatenate([deconv2, conv1])\n",
    "        deconv2 = self.conv_block5(deconv2)\n",
    "        \n",
    "        return self.output_conv(deconv2)"
   ]
  },
  {
   "cell_type": "code",
   "execution_count": 10,
   "metadata": {},
   "outputs": [
    {
     "name": "stdout",
     "output_type": "stream",
     "text": [
      "Checkpoint 11 restored.\n"
     ]
    }
   ],
   "source": [
    "unet_model = UNet()\n",
    "opt = tf.optimizers.Adam(learning_rate=LEARNING_RATE)\n",
    "\n",
    "checkpoint_path = './checkpoints/UNet_50x50_prevnextmask/'\n",
    "ckpt = tf.train.Checkpoint(unet_model=unet_model, opt=opt)\n",
    "ckpt_manager = tf.train.CheckpointManager(ckpt, checkpoint_path, max_to_keep=10)\n",
    "if ckpt_manager.checkpoints:\n",
    "    ckpt.restore(ckpt_manager.checkpoints[-1])\n",
    "    print ('Checkpoint ' + ckpt_manager.checkpoints[-1][-2:] +' restored.')"
   ]
  },
  {
   "cell_type": "markdown",
   "metadata": {},
   "source": [
    "## data loading"
   ]
  },
  {
   "cell_type": "code",
   "execution_count": 11,
   "metadata": {},
   "outputs": [],
   "source": [
    "l = np.load('./data/tot_dataset_loss_0.30.npz')\n",
    "MAXS = l['MAXS']\n",
    "MINS = l['MINS']"
   ]
  },
  {
   "cell_type": "code",
   "execution_count": 12,
   "metadata": {},
   "outputs": [],
   "source": [
    "TOM_DIRECTORY = '../data/tom/'\n",
    "file_list = os.listdir(TOM_DIRECTORY)\n",
    "dataset_list = ['tom/' + file for file in file_list if file.endswith('.csv') and file.startswith('Val')]\n",
    "dataset_list.sort()\n",
    "temp = dataset_list\n",
    "\n",
    "PAP_DIRECTORY = '../data/pap/'\n",
    "file_list = os.listdir(PAP_DIRECTORY)\n",
    "dataset_list = ['pap/' + file for file in file_list if file.endswith('.csv') and file.startswith('Val')]\n",
    "dataset_list.sort()\n",
    "\n",
    "temp.extend(dataset_list)\n",
    "dataset_list = temp"
   ]
  },
  {
   "cell_type": "code",
   "execution_count": 13,
   "metadata": {},
   "outputs": [],
   "source": [
    "def index_selector(x, sr): #x: sorted count indices (argmax), sr: Screen size\n",
    "    new_indices = []\n",
    "    while len(x) > 0:\n",
    "        new_indices.append(x[0])\n",
    "        x = np.setdiff1d(x, np.arange(x[0] - sr, x[0] + sr), assume_unique=True)\n",
    "    return np.array(new_indices)"
   ]
  },
  {
   "cell_type": "code",
   "execution_count": 14,
   "metadata": {
    "scrolled": true
   },
   "outputs": [
    {
     "name": "stdout",
     "output_type": "stream",
     "text": [
      "recovery ended.\n",
      "Val_PF_0001396_tom_env done.\n",
      "recovery ended.\n",
      "Val_PF_0002528_tom_env done.\n",
      "recovery ended.\n",
      "Val_PF_0002531_tom_env done.\n",
      "recovery ended.\n",
      "Val_PF_0002532_tom_env done.\n",
      "recovery ended.\n",
      "Val_PF_0001288_pap_env done.\n",
      "recovery ended.\n",
      "Val_PF_0001393_pap_env done.\n",
      "recovery ended.\n",
      "Val_PF_0001400_pap_env done.\n",
      "recovery ended.\n",
      "Val_PF_0002537_pap_env done.\n"
     ]
    }
   ],
   "source": [
    "for FILENAME in dataset_list:\n",
    "    raw_df = pd.read_csv(DIRECTORY + FILENAME, index_col=['MEAS_DATE']).dropna(how='all')\n",
    "    raw_df = raw_df[~(raw_df == 0).all(axis=1)].interpolate()\n",
    "    datetime = pd.DatetimeIndex(raw_df.index)\n",
    "    env_df = raw_df.values\n",
    "    np.random.seed(3101)\n",
    "    null_prob = 0.3\n",
    "    mask = np.random.choice(2, env_df.size, p=[null_prob, 1-null_prob]).reshape(env_df.shape)\n",
    "    np.random.seed(4564)\n",
    "    raw_null_prob = 0.3\n",
    "    raw_indices = np.random.choice(np.arange(int(env_df.shape[0]/48)-1),\n",
    "                                   replace=False, size=int(env_df.shape[0]/48 * raw_null_prob))\n",
    "    raw_indices = raw_indices*48\n",
    "    raw_indices_ext = []\n",
    "    for elem in raw_indices:\n",
    "        for _ in range(elem, elem+48):\n",
    "            raw_indices_ext.append(_)\n",
    "    raw_indices = np.array(raw_indices_ext)\n",
    "    raw_indices = np.unique(raw_indices[raw_indices < env_df.shape[0]])\n",
    "    env_df = (env_df - MINS)/(MAXS - MINS)\n",
    "\n",
    "    mask[raw_indices, :] = 0\n",
    "    missing_df = np.ma.array(env_df, mask=1-mask, fill_value=-1)\n",
    "    missing_df = missing_df.filled()\n",
    "\n",
    "    recover_df = missing_df.copy()\n",
    "    recover_df = pd.DataFrame(recover_df, index=raw_df.index, columns=raw_df.columns)\n",
    "    recover_df.index = pd.DatetimeIndex(recover_df.index)\n",
    "    filling_indices = np.array([True])\n",
    "    prev_filling_indices = np.array([False])\n",
    "    error = 0\n",
    "    while True:\n",
    "        new_mask = recover_df.mask(recover_df >= 0, 1).where(recover_df >= 0, 0).astype('int').values\n",
    "        if np.array_equal(prev_filling_indices, filling_indices):\n",
    "            error += 1\n",
    "            if error > 50:\n",
    "                print('TOO MANY ERRORS!')\n",
    "                break\n",
    "\n",
    "        missing_df = recover_df.copy().fillna(-1).values\n",
    "\n",
    "        temp_current = []\n",
    "        temp_prev = []\n",
    "        temp_next = []\n",
    "        temp_mask = []\n",
    "        temp_label = []\n",
    "        missing_counts_c = []\n",
    "        missing_counts_r = []\n",
    "        datetimes = []\n",
    "        for INDEX in range(SCREEN_SIZE*2, missing_df.shape[0]-SCREEN_SIZE):\n",
    "            _ = np.count_nonzero(missing_df.mean(axis=1)[(INDEX-SCREEN_SIZE*2):INDEX+SCREEN_SIZE] == -1) # number of missing raw\n",
    "            __ = np.count_nonzero(missing_df[(INDEX-SCREEN_SIZE):INDEX, :] == -1) # number of missing values in current screen\n",
    "            missing_counts_r.append(_)\n",
    "            missing_counts_c.append(__)\n",
    "        missing_counts_r = np.array(missing_counts_r)\n",
    "        missing_counts_c = np.array(missing_counts_c)\n",
    "        drop_index = np.arange(0, missing_counts_r.shape[0])\n",
    "        if error > 1:\n",
    "            drop_index = drop_index[(missing_counts_c > 0)]\n",
    "        else:\n",
    "            drop_index = drop_index[(missing_counts_r < SCREEN_SIZE*2) & (missing_counts_c > 0)]\n",
    "        count_sort = index_selector(drop_index, SCREEN_SIZE)\n",
    "\n",
    "        filling_indices = count_sort + SCREEN_SIZE*2\n",
    "        if len(filling_indices) == 0:\n",
    "            print('recovery ended.')\n",
    "            break\n",
    "        for INDEX_ in filling_indices:\n",
    "            temp_prev.append(missing_df[(INDEX_-SCREEN_SIZE*2):(INDEX_-SCREEN_SIZE), :])\n",
    "            temp_current.append(missing_df[(INDEX_-SCREEN_SIZE):INDEX_, :])\n",
    "            temp_next.append(missing_df[INDEX_:INDEX_+SCREEN_SIZE, :])\n",
    "            temp_mask.append(new_mask[(INDEX_-SCREEN_SIZE):INDEX_, :])\n",
    "            datetimes.append(datetime[(INDEX_-SCREEN_SIZE):INDEX_])\n",
    "\n",
    "        temp_prev = np.stack(temp_prev)\n",
    "        temp_current = np.stack(temp_current)\n",
    "        temp_next = np.stack(temp_next)\n",
    "        temp_mask = np.stack(temp_mask)\n",
    "        datetimes = np.array(datetimes)\n",
    "\n",
    "        test_input = np.stack([temp_current, temp_mask], axis = -1)\n",
    "        test_input = np.concatenate([test_input]*(int(SCREEN_SIZE/env_df.shape[1])), axis=2)\n",
    "\n",
    "        pred_result = unet_model.predict(test_input[..., :-1])\n",
    "        avg_pred = []\n",
    "        OUTLIER = 2\n",
    "        for __ in range(5):\n",
    "            temp = []\n",
    "            for _ in range(int(pred_result.shape[1]/5)):\n",
    "                temp.append(pred_result[..., _*5:(_+1)*5, 0][..., __])\n",
    "            temp = np.stack(temp, axis=2)\n",
    "            temp.sort(axis=2)\n",
    "            avg_pred.append(temp[..., OUTLIER:-OUTLIER].mean(axis=2))\n",
    "        avg_pred = np.stack(avg_pred, axis=2)\n",
    "        masking = test_input[..., -1]\n",
    "        avg_masking = masking[..., :5]\n",
    "        final_pred = np.ma.array(avg_pred, mask=avg_masking, fill_value=np.nan).filled()\n",
    "        pred_df = pd.DataFrame(final_pred.reshape(-1, 5),\n",
    "                               index = pd.DatetimeIndex(datetimes.reshape(-1, 1)[:, 0]),\n",
    "                               columns=raw_df.columns)\n",
    "        recover_df[recover_df == -1] = np.nan\n",
    "        recover_df = recover_df.combine_first(pred_df)\n",
    "\n",
    "        prev_filling_indices = filling_indices\n",
    "    ((MAXS[:5]-MINS[:5])*recover_df + MINS[:5]).to_csv('./results/recovered_%s_UNet_prevnextmask.csv' % (FILENAME.split('/')[-1].split('.')[0]))\n",
    "    print('%s done.' % FILENAME.split('/')[-1].split('.')[0])"
   ]
  },
  {
   "cell_type": "code",
   "execution_count": 15,
   "metadata": {},
   "outputs": [],
   "source": [
    "TOM_DIRECTORY = '../data/tom/'\n",
    "file_list = os.listdir(TOM_DIRECTORY)\n",
    "dataset_list = ['tom/' + file for file in file_list if file.endswith('.csv') and file.startswith('Val')]\n",
    "dataset_list.sort()\n",
    "temp = dataset_list\n",
    "\n",
    "PAP_DIRECTORY = '../data/pap/'\n",
    "file_list = os.listdir(PAP_DIRECTORY)\n",
    "dataset_list = ['pap/' + file for file in file_list if file.endswith('.csv') and file.startswith('Val')]\n",
    "dataset_list.sort()\n",
    "\n",
    "temp.extend(dataset_list)\n",
    "raw_dataset_list = temp"
   ]
  },
  {
   "cell_type": "code",
   "execution_count": 16,
   "metadata": {},
   "outputs": [],
   "source": [
    "ORI_DIRECTORY = './results/'\n",
    "file_list = os.listdir(ORI_DIRECTORY)\n",
    "ori_dataset_list = [file for file in file_list if file.startswith('original') and file.endswith('0.30p_UNet.csv')]\n",
    "ori_dataset_list.sort()"
   ]
  },
  {
   "cell_type": "code",
   "execution_count": 17,
   "metadata": {},
   "outputs": [],
   "source": [
    "RES_DIRECTORY = './results/'\n",
    "file_list = os.listdir(RES_DIRECTORY)\n",
    "res_dataset_list = [file for file in file_list if file.startswith('recovered') and file.endswith('UNet_prevnext.csv')]\n",
    "res_dataset_list.sort()"
   ]
  },
  {
   "cell_type": "code",
   "execution_count": 18,
   "metadata": {
    "scrolled": true
   },
   "outputs": [],
   "source": [
    "target_labels = {}\n",
    "target_preds = {}\n",
    "\n",
    "raw_df = pd.read_csv('../data/pap/PF_0000587_pap_env.csv', index_col='MEAS_DATE')\n",
    "for original in [_ for _ in ori_dataset_list if '0.30' in _]:\n",
    "    target_labels['loss_%s' % (original.split('_')[-2])] = {}\n",
    "    target_preds['loss_%s' % (original.split('_')[-2])] = {}\n",
    "    for COL in raw_df.columns:\n",
    "        target_labels['loss_%s' % (original.split('_')[-2])][COL] = []\n",
    "        target_preds['loss_%s' % (original.split('_')[-2])][COL] = []\n",
    "for original, recovery in zip([_ for _ in ori_dataset_list if '0.30' in _], [_ for _ in res_dataset_list if '_cur' in _]):\n",
    "    raw = [_ for _ in raw_dataset_list if original.split('_')[3] in _][0]\n",
    "    raw_df = pd.read_csv('../data/%s' % raw, index_col='MEAS_DATE')\n",
    "    ori_df = pd.read_csv('./results/%s' % original, index_col='MEAS_DATE')[51:-51]\n",
    "    try:\n",
    "        res_df = pd.read_csv('./results/%s' % recovery, index_col='Unnamed: 0')\n",
    "    except ValueError:\n",
    "        res_df = pd.read_csv('./results/%s' % recovery, index_col='MEAS_DATE')\n",
    "    raw_df.index = pd.DatetimeIndex(raw_df.index)\n",
    "    ori_df.index = pd.DatetimeIndex(ori_df.index)\n",
    "    res_df.index = pd.DatetimeIndex(res_df.index)\n",
    "    \n",
    "    raw_df = raw_df.where(ori_df.isnull())\n",
    "    res_df = res_df.mask(raw_df.isnull())\n",
    "    raw_df = raw_df\n",
    "    res_df = res_df\n",
    "\n",
    "    for COL in raw_df.columns:\n",
    "        if len(res_df[COL].dropna()) == 0:\n",
    "            continue\n",
    "        else:\n",
    "            target_labels['loss_%s' % (original.split('_')[-2])][COL].extend(raw_df[COL].dropna().values)\n",
    "            target_preds['loss_%s' % (original.split('_')[-2])][COL].extend(res_df[COL].dropna().values)"
   ]
  },
  {
   "cell_type": "code",
   "execution_count": 19,
   "metadata": {},
   "outputs": [
    {
     "ename": "ValueError",
     "evalue": "Found array with 0 sample(s) (shape=(0,)) while a minimum of 1 is required.",
     "output_type": "error",
     "traceback": [
      "\u001b[0;31m---------------------------------------------------------------------------\u001b[0m",
      "\u001b[0;31mValueError\u001b[0m                                Traceback (most recent call last)",
      "\u001b[0;32m<ipython-input-19-6517bc0708e3>\u001b[0m in \u001b[0;36m<module>\u001b[0;34m()\u001b[0m\n\u001b[1;32m      6\u001b[0m \u001b[0;34m\u001b[0m\u001b[0m\n\u001b[1;32m      7\u001b[0m     \u001b[0;32mfor\u001b[0m \u001b[0mCOL\u001b[0m \u001b[0;32min\u001b[0m \u001b[0mraw_df\u001b[0m\u001b[0;34m.\u001b[0m\u001b[0mcolumns\u001b[0m\u001b[0;34m:\u001b[0m\u001b[0;34m\u001b[0m\u001b[0;34m\u001b[0m\u001b[0m\n\u001b[0;32m----> 8\u001b[0;31m         \u001b[0mR2_table\u001b[0m\u001b[0;34m[\u001b[0m\u001b[0;34m'loss_%.2fp'\u001b[0m \u001b[0;34m%\u001b[0m \u001b[0mLOSS_RATE\u001b[0m\u001b[0;34m]\u001b[0m\u001b[0;34m.\u001b[0m\u001b[0mappend\u001b[0m\u001b[0;34m(\u001b[0m\u001b[0mr2_score\u001b[0m\u001b[0;34m(\u001b[0m\u001b[0mtarget_labels\u001b[0m\u001b[0;34m[\u001b[0m\u001b[0;34m'loss_%.2fp'\u001b[0m \u001b[0;34m%\u001b[0m \u001b[0mLOSS_RATE\u001b[0m\u001b[0;34m]\u001b[0m\u001b[0;34m[\u001b[0m\u001b[0mCOL\u001b[0m\u001b[0;34m]\u001b[0m\u001b[0;34m,\u001b[0m \u001b[0mtarget_preds\u001b[0m\u001b[0;34m[\u001b[0m\u001b[0;34m'loss_%.2fp'\u001b[0m \u001b[0;34m%\u001b[0m \u001b[0mLOSS_RATE\u001b[0m\u001b[0;34m]\u001b[0m\u001b[0;34m[\u001b[0m\u001b[0mCOL\u001b[0m\u001b[0;34m]\u001b[0m\u001b[0;34m)\u001b[0m\u001b[0;34m)\u001b[0m\u001b[0;34m\u001b[0m\u001b[0;34m\u001b[0m\u001b[0m\n\u001b[0m\u001b[1;32m      9\u001b[0m         \u001b[0mRMSE_table\u001b[0m\u001b[0;34m[\u001b[0m\u001b[0;34m'loss_%.2fp'\u001b[0m \u001b[0;34m%\u001b[0m \u001b[0mLOSS_RATE\u001b[0m\u001b[0;34m]\u001b[0m\u001b[0;34m.\u001b[0m\u001b[0mappend\u001b[0m\u001b[0;34m(\u001b[0m\u001b[0mnp\u001b[0m\u001b[0;34m.\u001b[0m\u001b[0msqrt\u001b[0m\u001b[0;34m(\u001b[0m\u001b[0mmean_squared_error\u001b[0m\u001b[0;34m(\u001b[0m\u001b[0mtarget_labels\u001b[0m\u001b[0;34m[\u001b[0m\u001b[0;34m'loss_%.2fp'\u001b[0m \u001b[0;34m%\u001b[0m \u001b[0mLOSS_RATE\u001b[0m\u001b[0;34m]\u001b[0m\u001b[0;34m[\u001b[0m\u001b[0mCOL\u001b[0m\u001b[0;34m]\u001b[0m\u001b[0;34m,\u001b[0m \u001b[0mtarget_preds\u001b[0m\u001b[0;34m[\u001b[0m\u001b[0;34m'loss_%.2fp'\u001b[0m \u001b[0;34m%\u001b[0m \u001b[0mLOSS_RATE\u001b[0m\u001b[0;34m]\u001b[0m\u001b[0;34m[\u001b[0m\u001b[0mCOL\u001b[0m\u001b[0;34m]\u001b[0m\u001b[0;34m)\u001b[0m\u001b[0;34m)\u001b[0m\u001b[0;34m)\u001b[0m\u001b[0;34m\u001b[0m\u001b[0;34m\u001b[0m\u001b[0m\n",
      "\u001b[0;32m~/anaconda3/envs/tensorflow2_p36/lib/python3.6/site-packages/sklearn/metrics/regression.py\u001b[0m in \u001b[0;36mr2_score\u001b[0;34m(y_true, y_pred, sample_weight, multioutput)\u001b[0m\n\u001b[1;32m    536\u001b[0m     \"\"\"\n\u001b[1;32m    537\u001b[0m     y_type, y_true, y_pred, multioutput = _check_reg_targets(\n\u001b[0;32m--> 538\u001b[0;31m         y_true, y_pred, multioutput)\n\u001b[0m\u001b[1;32m    539\u001b[0m     \u001b[0mcheck_consistent_length\u001b[0m\u001b[0;34m(\u001b[0m\u001b[0my_true\u001b[0m\u001b[0;34m,\u001b[0m \u001b[0my_pred\u001b[0m\u001b[0;34m,\u001b[0m \u001b[0msample_weight\u001b[0m\u001b[0;34m)\u001b[0m\u001b[0;34m\u001b[0m\u001b[0;34m\u001b[0m\u001b[0m\n\u001b[1;32m    540\u001b[0m \u001b[0;34m\u001b[0m\u001b[0m\n",
      "\u001b[0;32m~/anaconda3/envs/tensorflow2_p36/lib/python3.6/site-packages/sklearn/metrics/regression.py\u001b[0m in \u001b[0;36m_check_reg_targets\u001b[0;34m(y_true, y_pred, multioutput)\u001b[0m\n\u001b[1;32m     76\u001b[0m     \"\"\"\n\u001b[1;32m     77\u001b[0m     \u001b[0mcheck_consistent_length\u001b[0m\u001b[0;34m(\u001b[0m\u001b[0my_true\u001b[0m\u001b[0;34m,\u001b[0m \u001b[0my_pred\u001b[0m\u001b[0;34m)\u001b[0m\u001b[0;34m\u001b[0m\u001b[0;34m\u001b[0m\u001b[0m\n\u001b[0;32m---> 78\u001b[0;31m     \u001b[0my_true\u001b[0m \u001b[0;34m=\u001b[0m \u001b[0mcheck_array\u001b[0m\u001b[0;34m(\u001b[0m\u001b[0my_true\u001b[0m\u001b[0;34m,\u001b[0m \u001b[0mensure_2d\u001b[0m\u001b[0;34m=\u001b[0m\u001b[0;32mFalse\u001b[0m\u001b[0;34m)\u001b[0m\u001b[0;34m\u001b[0m\u001b[0;34m\u001b[0m\u001b[0m\n\u001b[0m\u001b[1;32m     79\u001b[0m     \u001b[0my_pred\u001b[0m \u001b[0;34m=\u001b[0m \u001b[0mcheck_array\u001b[0m\u001b[0;34m(\u001b[0m\u001b[0my_pred\u001b[0m\u001b[0;34m,\u001b[0m \u001b[0mensure_2d\u001b[0m\u001b[0;34m=\u001b[0m\u001b[0;32mFalse\u001b[0m\u001b[0;34m)\u001b[0m\u001b[0;34m\u001b[0m\u001b[0;34m\u001b[0m\u001b[0m\n\u001b[1;32m     80\u001b[0m \u001b[0;34m\u001b[0m\u001b[0m\n",
      "\u001b[0;32m~/anaconda3/envs/tensorflow2_p36/lib/python3.6/site-packages/sklearn/utils/validation.py\u001b[0m in \u001b[0;36mcheck_array\u001b[0;34m(array, accept_sparse, accept_large_sparse, dtype, order, copy, force_all_finite, ensure_2d, allow_nd, ensure_min_samples, ensure_min_features, warn_on_dtype, estimator)\u001b[0m\n\u001b[1;32m    548\u001b[0m                              \u001b[0;34m\" minimum of %d is required%s.\"\u001b[0m\u001b[0;34m\u001b[0m\u001b[0;34m\u001b[0m\u001b[0m\n\u001b[1;32m    549\u001b[0m                              % (n_samples, array.shape, ensure_min_samples,\n\u001b[0;32m--> 550\u001b[0;31m                                 context))\n\u001b[0m\u001b[1;32m    551\u001b[0m \u001b[0;34m\u001b[0m\u001b[0m\n\u001b[1;32m    552\u001b[0m     \u001b[0;32mif\u001b[0m \u001b[0mensure_min_features\u001b[0m \u001b[0;34m>\u001b[0m \u001b[0;36m0\u001b[0m \u001b[0;32mand\u001b[0m \u001b[0marray\u001b[0m\u001b[0;34m.\u001b[0m\u001b[0mndim\u001b[0m \u001b[0;34m==\u001b[0m \u001b[0;36m2\u001b[0m\u001b[0;34m:\u001b[0m\u001b[0;34m\u001b[0m\u001b[0;34m\u001b[0m\u001b[0m\n",
      "\u001b[0;31mValueError\u001b[0m: Found array with 0 sample(s) (shape=(0,)) while a minimum of 1 is required."
     ]
    }
   ],
   "source": [
    "R2_table = {}\n",
    "RMSE_table = {}\n",
    "for LOSS_RATE in [0.3]:\n",
    "    R2_table['loss_%.2fp' % LOSS_RATE] = []\n",
    "    RMSE_table['loss_%.2fp' % LOSS_RATE] = []\n",
    "    \n",
    "    for COL in raw_df.columns:\n",
    "        R2_table['loss_%.2fp' % LOSS_RATE].append(r2_score(target_labels['loss_%.2fp' % LOSS_RATE][COL], target_preds['loss_%.2fp' % LOSS_RATE][COL]))\n",
    "        RMSE_table['loss_%.2fp' % LOSS_RATE].append(np.sqrt(mean_squared_error(target_labels['loss_%.2fp' % LOSS_RATE][COL], target_preds['loss_%.2fp' % LOSS_RATE][COL])))"
   ]
  },
  {
   "cell_type": "code",
   "execution_count": null,
   "metadata": {},
   "outputs": [],
   "source": [
    "UNet_R2_df = pd.DataFrame(R2_table)\n",
    "UNet_R2_df[UNet_R2_df < 0] = 0\n",
    "UNet_RMSE_df = pd.DataFrame(RMSE_table)"
   ]
  },
  {
   "cell_type": "code",
   "execution_count": null,
   "metadata": {},
   "outputs": [],
   "source": [
    "UNet_R2_df"
   ]
  }
 ],
 "metadata": {
  "kernelspec": {
   "display_name": "Environment (conda_tensorflow2_p36)",
   "language": "python",
   "name": "conda_tensorflow2_p36"
  },
  "language_info": {
   "codemirror_mode": {
    "name": "ipython",
    "version": 3
   },
   "file_extension": ".py",
   "mimetype": "text/x-python",
   "name": "python",
   "nbconvert_exporter": "python",
   "pygments_lexer": "ipython3",
   "version": "3.6.10"
  }
 },
 "nbformat": 4,
 "nbformat_minor": 4
}

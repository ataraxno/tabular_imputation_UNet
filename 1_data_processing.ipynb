{
 "cells": [
  {
   "cell_type": "code",
   "execution_count": 1,
   "metadata": {},
   "outputs": [],
   "source": [
    "import os\n",
    "\n",
    "import numpy as np\n",
    "import pandas as pd\n",
    "\n",
    "from sklearn.utils import resample\n",
    "\n",
    "np.set_printoptions(precision=6, suppress=True)"
   ]
  },
  {
   "cell_type": "code",
   "execution_count": 2,
   "metadata": {},
   "outputs": [],
   "source": [
    "SCREEN_SIZE = 50\n",
    "DIRECTORY = '../data/'"
   ]
  },
  {
   "cell_type": "markdown",
   "metadata": {},
   "source": [
    "## Training & test data"
   ]
  },
  {
   "cell_type": "markdown",
   "metadata": {},
   "source": [
    "### U-Net & RNN"
   ]
  },
  {
   "cell_type": "code",
   "execution_count": 3,
   "metadata": {},
   "outputs": [],
   "source": [
    "TOM_DIRECTORY = '../data/tom/'\n",
    "file_list = os.listdir(TOM_DIRECTORY)\n",
    "dataset_list = ['tom/' + file for file in file_list if file.endswith('.csv') and not file.startswith('Val')]\n",
    "dataset_list.sort()\n",
    "temp = dataset_list"
   ]
  },
  {
   "cell_type": "code",
   "execution_count": 4,
   "metadata": {},
   "outputs": [],
   "source": [
    "PAP_DIRECTORY = '../data/pap/'\n",
    "file_list = os.listdir(PAP_DIRECTORY)\n",
    "dataset_list = ['pap/' + file for file in file_list if file.endswith('.csv') and not file.startswith('Val')]\n",
    "dataset_list.sort()"
   ]
  },
  {
   "cell_type": "code",
   "execution_count": 5,
   "metadata": {},
   "outputs": [],
   "source": [
    "temp.extend(dataset_list)\n",
    "dataset_list = temp"
   ]
  },
  {
   "cell_type": "code",
   "execution_count": 6,
   "metadata": {},
   "outputs": [],
   "source": [
    "# min, max first\n",
    "temp_df = []\n",
    "for FILENAME in dataset_list:\n",
    "    env_df = pd.read_csv(DIRECTORY + FILENAME, index_col=['MEAS_DATE']).dropna(how='all')\n",
    "    env_df = env_df[~(env_df == 0).all(axis=1)].interpolate().values\n",
    "    \n",
    "    temp_df.append(env_df)\n",
    "MAXS = np.concatenate(temp_df, axis=0).max(axis=0)\n",
    "MINS = np.concatenate(temp_df, axis=0).min(axis=0)"
   ]
  },
  {
   "cell_type": "code",
   "execution_count": 7,
   "metadata": {},
   "outputs": [],
   "source": [
    "temp_current = []\n",
    "temp_prev = []\n",
    "temp_next = []\n",
    "temp_mask = []\n",
    "temp_label = []\n",
    "\n",
    "TOM_DIRECTORY = '../data/tom/'\n",
    "file_list = os.listdir(TOM_DIRECTORY)\n",
    "dataset_list = ['tom/' + file for file in file_list if file.endswith('.csv') and not file.startswith('Val')]\n",
    "dataset_list.sort()\n",
    "temp = dataset_list\n",
    "\n",
    "PAP_DIRECTORY = '../data/pap/'\n",
    "file_list = os.listdir(PAP_DIRECTORY)\n",
    "dataset_list = ['pap/' + file for file in file_list if file.endswith('.csv') and not file.startswith('Val')]\n",
    "dataset_list.sort()\n",
    "\n",
    "temp.extend(dataset_list)\n",
    "dataset_list = temp\n",
    "\n",
    "for FILENAME in dataset_list:\n",
    "    env_df = pd.read_csv(DIRECTORY + FILENAME, index_col=['MEAS_DATE']).dropna(how='all')\n",
    "    env_df = env_df[~(env_df == 0).all(axis=1)].interpolate().values\n",
    "    \n",
    "    np.random.seed(3101)\n",
    "    null_prob = 0.3\n",
    "    mask = np.random.choice(2, env_df.size, p=[null_prob, 1-null_prob]).reshape(env_df.shape)\n",
    "    np.random.seed(4564)\n",
    "    raw_null_prob = 0.3\n",
    "    raw_indices = np.random.choice(np.arange(int(env_df.shape[0]/48)-1),\n",
    "                                   replace=False, size=int(env_df.shape[0]/48 * raw_null_prob))\n",
    "    raw_indices = raw_indices*48\n",
    "    raw_indices_ext = []\n",
    "    for elem in raw_indices:\n",
    "        for _ in range(elem, elem+48):\n",
    "            raw_indices_ext.append(_)\n",
    "    raw_indices = np.array(raw_indices_ext)\n",
    "    raw_indices = np.unique(raw_indices[raw_indices < env_df.shape[0]])\n",
    "    env_df = (env_df - MINS)/(MAXS - MINS)\n",
    "    \n",
    "    mask[raw_indices, :] = 0\n",
    "    missing_df = np.ma.array(env_df, mask=1-mask, fill_value=-1)\n",
    "    missing_df = missing_df.filled()\n",
    "    for INDEX in range(SCREEN_SIZE*2, env_df.shape[0]-SCREEN_SIZE):\n",
    "        temp_prev.append(missing_df[(INDEX-SCREEN_SIZE*2):(INDEX-SCREEN_SIZE), :])\n",
    "        temp_current.append(missing_df[(INDEX-SCREEN_SIZE):INDEX, :])\n",
    "        temp_next.append(missing_df[INDEX:INDEX+SCREEN_SIZE, :])\n",
    "        \n",
    "        temp_mask.append(mask[(INDEX-SCREEN_SIZE):INDEX, :])\n",
    "        temp_label.append(env_df[(INDEX-SCREEN_SIZE):INDEX, :])\n",
    "temp_prev = np.stack(temp_prev)\n",
    "temp_current = np.stack(temp_current)\n",
    "temp_next = np.stack(temp_next)\n",
    "temp_mask = np.stack(temp_mask)\n",
    "temp_label = np.stack(temp_label)\n",
    "\n",
    "raw_input = np.stack([temp_current, temp_mask, temp_prev, temp_next], axis = -1)\n",
    "raw_label = temp_label[..., np.newaxis]"
   ]
  },
  {
   "cell_type": "code",
   "execution_count": 8,
   "metadata": {},
   "outputs": [],
   "source": [
    "raw_input = np.concatenate([raw_input]*(int(SCREEN_SIZE/env_df.shape[1])), axis=2)\n",
    "raw_label = np.concatenate([raw_label]*(int(SCREEN_SIZE/env_df.shape[1])), axis=2)"
   ]
  },
  {
   "cell_type": "code",
   "execution_count": 9,
   "metadata": {},
   "outputs": [
    {
     "name": "stdout",
     "output_type": "stream",
     "text": [
      "(134993, 50, 50, 4)\n",
      "(134993, 50, 50, 1)\n"
     ]
    }
   ],
   "source": [
    "print(raw_input.shape)\n",
    "print(raw_label.shape)"
   ]
  },
  {
   "cell_type": "code",
   "execution_count": 10,
   "metadata": {},
   "outputs": [
    {
     "name": "stdout",
     "output_type": "stream",
     "text": [
      "[[ 0.245125  0.376592  0.833015 ...  0.833015  0.173458  0.      ]\n",
      " [ 0.253482  0.372346 -1.       ... -1.        0.177036  0.      ]\n",
      " [ 0.269824 -1.        0.819099 ...  0.819099  0.183511  0.001335]\n",
      " ...\n",
      " [-1.       -1.       -1.       ... -1.       -1.       -1.      ]\n",
      " [-1.       -1.       -1.       ... -1.       -1.       -1.      ]\n",
      " [-1.       -1.       -1.       ... -1.       -1.       -1.      ]]\n",
      "[[-1.       -1.       -1.       ... -1.       -1.       -1.      ]\n",
      " [-1.       -1.       -1.       ... -1.       -1.       -1.      ]\n",
      " [-1.       -1.       -1.       ... -1.       -1.       -1.      ]\n",
      " ...\n",
      " [-1.       -1.        0.877098 ...  0.877098  0.182771  0.      ]\n",
      " [ 0.272052  0.352641  0.870193 ...  0.870193  0.190664  0.001904]\n",
      " [ 0.290065  0.360625  0.854897 ...  0.854897 -1.        0.033487]]\n",
      "[[ 0.303993  0.383727 -1.       ... -1.        0.210764  0.082926]\n",
      " [ 0.343918 -1.        0.883684 ...  0.883684  0.22125   0.146342]\n",
      " [ 0.353389  0.448616  0.892394 ...  0.892394  0.211754 -1.      ]\n",
      " ...\n",
      " [-1.        0.357737  0.83259  ...  0.83259  -1.        0.031936]\n",
      " [-1.        0.397146  0.75972  ...  0.75972   0.204862  0.122629]\n",
      " [-1.        0.4425    0.729552 ...  0.729552 -1.       -1.      ]]\n",
      "[[0. 0. 0. ... 0. 0. 0.]\n",
      " [0. 0. 0. ... 0. 0. 0.]\n",
      " [0. 0. 0. ... 0. 0. 0.]\n",
      " ...\n",
      " [0. 0. 1. ... 1. 1. 1.]\n",
      " [1. 1. 1. ... 1. 1. 1.]\n",
      " [1. 1. 1. ... 1. 0. 1.]]\n",
      "[[0.276509 0.335315 0.843    ... 0.843    0.185805 0.000988]\n",
      " [0.290622 0.333277 0.840557 ... 0.840557 0.18991  0.026432]\n",
      " [0.296379 0.340071 0.821649 ... 0.821649 0.212394 0.06268 ]\n",
      " ...\n",
      " [0.256082 0.351622 0.877098 ... 0.877098 0.182771 0.      ]\n",
      " [0.272052 0.352641 0.870193 ... 0.870193 0.190664 0.001904]\n",
      " [0.290065 0.360625 0.854897 ... 0.854897 0.197342 0.033487]]\n"
     ]
    }
   ],
   "source": [
    "i = 5\n",
    "print(raw_input[i, ..., 2])\n",
    "print(raw_input[i, ..., 0])\n",
    "print(raw_input[i, ..., 3])\n",
    "print(raw_input[i, ..., 1])\n",
    "print(raw_label[i, ..., 0])"
   ]
  },
  {
   "cell_type": "code",
   "execution_count": 11,
   "metadata": {},
   "outputs": [
    {
     "name": "stdout",
     "output_type": "stream",
     "text": [
      "[  54.88   37.95  100.   2999.   1669.92]\n",
      "[  1.03 -20.92   5.86   0.     0.  ]\n"
     ]
    }
   ],
   "source": [
    "print(MAXS)\n",
    "print(MINS)"
   ]
  },
  {
   "cell_type": "markdown",
   "metadata": {},
   "source": [
    "### Test data"
   ]
  },
  {
   "cell_type": "code",
   "execution_count": 12,
   "metadata": {},
   "outputs": [],
   "source": [
    "TOM_DIRECTORY = '../data/tom/'\n",
    "file_list = os.listdir(TOM_DIRECTORY)\n",
    "dataset_list = ['tom/' + file for file in file_list if file.endswith('.csv') and file.startswith('Val')]\n",
    "dataset_list.sort()\n",
    "temp = dataset_list"
   ]
  },
  {
   "cell_type": "code",
   "execution_count": 13,
   "metadata": {},
   "outputs": [],
   "source": [
    "PAP_DIRECTORY = '../data/pap/'\n",
    "file_list = os.listdir(PAP_DIRECTORY)\n",
    "dataset_list = ['pap/' + file for file in file_list if file.endswith('.csv') and file.startswith('Val')]\n",
    "dataset_list.sort()"
   ]
  },
  {
   "cell_type": "code",
   "execution_count": 14,
   "metadata": {},
   "outputs": [],
   "source": [
    "temp.extend(dataset_list)\n",
    "dataset_list = temp"
   ]
  },
  {
   "cell_type": "code",
   "execution_count": 15,
   "metadata": {},
   "outputs": [],
   "source": [
    "temp_current = []\n",
    "temp_prev = []\n",
    "temp_next = []\n",
    "temp_mask = []\n",
    "temp_label = []\n",
    "for FILENAME in dataset_list:\n",
    "    env_df = pd.read_csv(DIRECTORY + FILENAME, index_col=['MEAS_DATE']).dropna(how='all')\n",
    "    env_df = env_df[~(env_df == 0).all(axis=1)].interpolate().values\n",
    "    np.random.seed(3101)\n",
    "    null_prob = 0.3\n",
    "    mask = np.random.choice(2, env_df.size, p=[null_prob, 1-null_prob]).reshape(env_df.shape)\n",
    "    np.random.seed(4564)\n",
    "    raw_null_prob = 0.3\n",
    "    raw_indices = np.random.choice(np.arange(int(env_df.shape[0]/48)-1),\n",
    "                                   replace=False, size=int(env_df.shape[0]/48 * raw_null_prob))\n",
    "    raw_indices = raw_indices*48\n",
    "    raw_indices_ext = []\n",
    "    for elem in raw_indices:\n",
    "        for _ in range(elem, elem+48):\n",
    "            raw_indices_ext.append(_)\n",
    "    raw_indices = np.array(raw_indices_ext)\n",
    "    raw_indices = np.unique(raw_indices[raw_indices < env_df.shape[0]])\n",
    "    env_df = (env_df - MINS)/(MAXS - MINS)\n",
    "    \n",
    "    mask[raw_indices, :] = 0\n",
    "    missing_df = np.ma.array(env_df, mask=1-mask, fill_value=-1)\n",
    "    missing_df = missing_df.filled()\n",
    "    \n",
    "    for INDEX in range(SCREEN_SIZE*2, env_df.shape[0]-SCREEN_SIZE):\n",
    "        temp_prev.append(missing_df[(INDEX-SCREEN_SIZE*2):(INDEX-SCREEN_SIZE), :])\n",
    "        temp_current.append(missing_df[(INDEX-SCREEN_SIZE):INDEX, :])\n",
    "        temp_next.append(missing_df[INDEX:INDEX+SCREEN_SIZE, :])\n",
    "        \n",
    "        temp_mask.append(mask[(INDEX-SCREEN_SIZE):INDEX, :])\n",
    "        temp_label.append(env_df[(INDEX-SCREEN_SIZE):INDEX, :])\n",
    "temp_prev = np.stack(temp_prev)\n",
    "temp_current = np.stack(temp_current)\n",
    "temp_next = np.stack(temp_next)\n",
    "temp_mask = np.stack(temp_mask)\n",
    "temp_label = np.stack(temp_label)\n",
    "\n",
    "test_input = np.stack([temp_current, temp_mask, temp_prev, temp_next], axis = -1)\n",
    "test_label = temp_label[..., np.newaxis]"
   ]
  },
  {
   "cell_type": "code",
   "execution_count": 16,
   "metadata": {},
   "outputs": [],
   "source": [
    "test_input = np.concatenate([test_input]*(int(SCREEN_SIZE/env_df.shape[1])), axis=2)\n",
    "test_label = np.concatenate([test_label]*(int(SCREEN_SIZE/env_df.shape[1])), axis=2)"
   ]
  },
  {
   "cell_type": "code",
   "execution_count": 17,
   "metadata": {},
   "outputs": [
    {
     "name": "stdout",
     "output_type": "stream",
     "text": [
      "(78263, 50, 50, 4)\n",
      "(78263, 50, 50, 1)\n"
     ]
    }
   ],
   "source": [
    "print(test_input.shape)\n",
    "print(test_label.shape)"
   ]
  },
  {
   "cell_type": "code",
   "execution_count": 18,
   "metadata": {},
   "outputs": [],
   "source": [
    "f = open('./data/tot_dataset_%s_UNet.npz' % str(SCREEN_SIZE), 'wb')\n",
    "np.savez(f,\n",
    "         raw_input = raw_input,\n",
    "         raw_label = raw_label,\n",
    "         test_input = test_input,\n",
    "         test_label = test_label,\n",
    "         MAXS = MAXS,\n",
    "         MINS = MINS,\n",
    "         SCREEN_SIZE = SCREEN_SIZE\n",
    "        )\n",
    "f.close()"
   ]
  },
  {
   "cell_type": "markdown",
   "metadata": {},
   "source": [
    "### FFNN & Linear interpolation"
   ]
  },
  {
   "cell_type": "markdown",
   "metadata": {},
   "source": [
    "TOM_DIRECTORY = '../data/tom/'\n",
    "file_list = os.listdir(TOM_DIRECTORY)\n",
    "dataset_list = ['tom/' + file for file in file_list if file.endswith('.csv') and not file.startswith('Val')]\n",
    "dataset_list.sort()\n",
    "temp = dataset_list"
   ]
  },
  {
   "cell_type": "markdown",
   "metadata": {},
   "source": [
    "PAP_DIRECTORY = '../data/pap/'\n",
    "file_list = os.listdir(PAP_DIRECTORY)\n",
    "dataset_list = ['pap/' + file for file in file_list if file.endswith('.csv') and not file.startswith('Val')]\n",
    "dataset_list.sort()"
   ]
  },
  {
   "cell_type": "markdown",
   "metadata": {},
   "source": [
    "temp.extend(dataset_list)\n",
    "dataset_list = temp"
   ]
  },
  {
   "cell_type": "markdown",
   "metadata": {},
   "source": [
    "# min, max first\n",
    "temp_df = []\n",
    "for FILENAME in dataset_list:\n",
    "    env_df = pd.read_csv(DIRECTORY + FILENAME, index_col=['MEAS_DATE']).dropna(how='all')\n",
    "    env_df = env_df[~(env_df == 0).all(axis=1)].interpolate().values\n",
    "    \n",
    "    temp_df.append(env_df)\n",
    "MAXS = np.concatenate(temp_df, axis=0).max(axis=0)\n",
    "MINS = np.concatenate(temp_df, axis=0).min(axis=0)"
   ]
  },
  {
   "cell_type": "markdown",
   "metadata": {},
   "source": [
    "temp_current = []\n",
    "temp_prev = []\n",
    "temp_next = []\n",
    "temp_mask = []\n",
    "temp_label = []\n",
    "for FILENAME in dataset_list:\n",
    "    env_df = pd.read_csv(DIRECTORY + FILENAME, index_col=['MEAS_DATE']).dropna(how='all')\n",
    "    env_df = env_df[~(env_df == 0).all(axis=1)].interpolate().values\n",
    "    \n",
    "    np.random.seed(3101)\n",
    "    null_prob = 0.3\n",
    "    mask = np.random.choice(2, env_df.size, p=[null_prob, 1-null_prob]).reshape(env_df.shape)\n",
    "    np.random.seed(4564)\n",
    "    raw_null_prob = 0.3\n",
    "    raw_indices = np.random.choice(np.arange(int(env_df.shape[0]/48)-1),\n",
    "                                   replace=False, size=int(env_df.shape[0]/48 * raw_null_prob))\n",
    "    raw_indices = raw_indices*48\n",
    "    raw_indices_ext = []\n",
    "    for elem in raw_indices:\n",
    "        for _ in range(elem, elem+48):\n",
    "            raw_indices_ext.append(_)\n",
    "    raw_indices = np.array(raw_indices_ext)\n",
    "    raw_indices = np.unique(raw_indices[raw_indices < env_df.shape[0]])\n",
    "    env_df = (env_df - MINS)/(MAXS - MINS)\n",
    "    \n",
    "    mask[raw_indices, :] = 0\n",
    "    missing_df = env_df*mask\n",
    "\n",
    "\n",
    "    for INDEX in range(2, env_df.shape[0]-1):\n",
    "        temp_prev.append(missing_df[(INDEX-2):(INDEX-1), :])\n",
    "        temp_current.append(missing_df[(INDEX-1):INDEX, :])\n",
    "        temp_next.append(missing_df[INDEX:INDEX+1, :])\n",
    "        \n",
    "        temp_mask.append(mask[(INDEX-1):INDEX, :])\n",
    "        temp_label.append(env_df[(INDEX-1):INDEX, :])\n",
    "temp_prev = np.stack(temp_prev)\n",
    "temp_current = np.stack(temp_current)\n",
    "temp_next = np.stack(temp_next)\n",
    "temp_mask = np.stack(temp_mask)\n",
    "temp_label = np.stack(temp_label)\n",
    "\n",
    "raw_input = np.stack([temp_current, temp_mask, temp_prev, temp_next], axis = -1)\n",
    "raw_label = temp_label[..., np.newaxis]"
   ]
  },
  {
   "cell_type": "markdown",
   "metadata": {},
   "source": [
    "print(raw_input.shape)\n",
    "print(raw_label.shape)"
   ]
  },
  {
   "cell_type": "markdown",
   "metadata": {},
   "source": [
    "raw_input = np.concatenate([raw_input.squeeze(axis=1)[..., 0],\n",
    "                            raw_input.squeeze(axis=1)[..., 1],\n",
    "                            raw_input.squeeze(axis=1)[..., 2],\n",
    "                            raw_input.squeeze(axis=1)[..., 3]\n",
    "                           ], axis=1)\n",
    "raw_label = raw_label.squeeze(axis=1)[..., 0]"
   ]
  },
  {
   "cell_type": "markdown",
   "metadata": {},
   "source": [
    "print(raw_input.shape)\n",
    "print(raw_label.shape)"
   ]
  },
  {
   "cell_type": "markdown",
   "metadata": {},
   "source": [
    "TOM_DIRECTORY = '../data/tom/'\n",
    "file_list = os.listdir(TOM_DIRECTORY)\n",
    "dataset_list = ['tom/' + file for file in file_list if file.endswith('.csv') and file.startswith('Val')]\n",
    "dataset_list.sort()\n",
    "temp = dataset_list"
   ]
  },
  {
   "cell_type": "markdown",
   "metadata": {},
   "source": [
    "PAP_DIRECTORY = '../data/pap/'\n",
    "file_list = os.listdir(PAP_DIRECTORY)\n",
    "dataset_list = ['pap/' + file for file in file_list if file.endswith('.csv') and file.startswith('Val')]\n",
    "dataset_list.sort()"
   ]
  },
  {
   "cell_type": "markdown",
   "metadata": {},
   "source": [
    "temp.extend(dataset_list)\n",
    "dataset_list = temp"
   ]
  },
  {
   "cell_type": "markdown",
   "metadata": {},
   "source": [
    "temp_current = []\n",
    "temp_prev = []\n",
    "temp_next = []\n",
    "temp_mask = []\n",
    "temp_label = []\n",
    "for FILENAME in dataset_list:\n",
    "    env_df = pd.read_csv(DIRECTORY + FILENAME, index_col=['MEAS_DATE']).dropna(how='all')\n",
    "    env_df = env_df[~(env_df == 0).all(axis=1)].interpolate().values\n",
    "    np.random.seed(3101)\n",
    "    null_prob = 0.3\n",
    "    mask = np.random.choice(2, env_df.size, p=[null_prob, 1-null_prob]).reshape(env_df.shape)\n",
    "    np.random.seed(4564)\n",
    "    raw_null_prob = 0.3\n",
    "    raw_indices = np.random.choice(np.arange(int(env_df.shape[0]/48)-1),\n",
    "                                   replace=False, size=int(env_df.shape[0]/48 * raw_null_prob))\n",
    "    raw_indices = raw_indices*48\n",
    "    raw_indices_ext = []\n",
    "    for elem in raw_indices:\n",
    "        for _ in range(elem, elem+48):\n",
    "            raw_indices_ext.append(_)\n",
    "    raw_indices = np.array(raw_indices_ext)\n",
    "    raw_indices = np.unique(raw_indices[raw_indices < env_df.shape[0]])\n",
    "    env_df = (env_df - MINS)/(MAXS - MINS)\n",
    "    \n",
    "    mask[raw_indices, :] = 0\n",
    "    missing_df = env_df*mask\n",
    "    \n",
    "    for INDEX in range(2, env_df.shape[0]-1):\n",
    "        temp_prev.append(missing_df[(INDEX-2):(INDEX-1), :])\n",
    "        temp_current.append(missing_df[(INDEX-1):INDEX, :])\n",
    "        temp_next.append(missing_df[INDEX:INDEX+1, :])\n",
    "        \n",
    "        temp_mask.append(mask[(INDEX-1):INDEX, :])\n",
    "        temp_label.append(env_df[(INDEX-1):INDEX, :])\n",
    "temp_prev = np.stack(temp_prev)\n",
    "temp_current = np.stack(temp_current)\n",
    "temp_next = np.stack(temp_next)\n",
    "temp_mask = np.stack(temp_mask)\n",
    "temp_label = np.stack(temp_label)\n",
    "\n",
    "test_input = np.stack([temp_current, temp_mask, temp_prev, temp_next], axis = -1)\n",
    "test_label = temp_label[..., np.newaxis]"
   ]
  },
  {
   "cell_type": "markdown",
   "metadata": {},
   "source": [
    "print(test_input.shape)\n",
    "print(test_label.shape)"
   ]
  },
  {
   "cell_type": "markdown",
   "metadata": {},
   "source": [
    "test_input = np.concatenate([test_input.squeeze(axis=1)[..., 0],\n",
    "                             test_input.squeeze(axis=1)[..., 1],\n",
    "                             test_input.squeeze(axis=1)[..., 2],\n",
    "                             test_input.squeeze(axis=1)[..., 3]\n",
    "                            ], axis=1)\n",
    "test_label = test_label.squeeze(axis=1)[..., 0]"
   ]
  },
  {
   "cell_type": "markdown",
   "metadata": {},
   "source": [
    "print(test_input.shape)\n",
    "print(test_label.shape)"
   ]
  },
  {
   "cell_type": "markdown",
   "metadata": {},
   "source": [
    "f = open('./data/tot_dataset_ffnn.npz', 'wb')\n",
    "np.savez(f,\n",
    "         raw_input = raw_input,\n",
    "         raw_label = raw_label,\n",
    "         test_input = test_input,\n",
    "         test_label = test_label,\n",
    "         MAXS = MAXS,\n",
    "         MINS = MINS\n",
    "        )\n",
    "f.close()"
   ]
  }
 ],
 "metadata": {
  "kernelspec": {
   "display_name": "Environment (conda_tensorflow2_p36)",
   "language": "python",
   "name": "conda_tensorflow2_p36"
  },
  "language_info": {
   "codemirror_mode": {
    "name": "ipython",
    "version": 3
   },
   "file_extension": ".py",
   "mimetype": "text/x-python",
   "name": "python",
   "nbconvert_exporter": "python",
   "pygments_lexer": "ipython3",
   "version": "3.6.10"
  }
 },
 "nbformat": 4,
 "nbformat_minor": 4
}
